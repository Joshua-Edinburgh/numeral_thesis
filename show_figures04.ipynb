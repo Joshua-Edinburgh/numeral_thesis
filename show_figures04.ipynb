{
 "cells": [
  {
   "cell_type": "code",
   "execution_count": null,
   "metadata": {},
   "outputs": [],
   "source": [
    "import numpy as np\n",
    "import seaborn as sns\n",
    "import matplotlib.pyplot as plt\n",
    "from mpl_toolkits.mplot3d import Axes3D\n",
    "from matplotlib import cm\n",
    "from scipy.interpolate import spline\n",
    "from matplotlib.ticker import LinearLocator, FormatStrFormatter\n",
    "\n",
    "path = 'exp_results/'\n",
    "RWD = 'rewards.npy'\n",
    "NONE_RST = 'test_none_reset/'\n",
    "NONE_RST_LONG = 'test_none_reset_long/'\n",
    "LIST_RST = 'test_only_listener_reset/'\n",
    "SPKE_RST = 'test_only_speaker_reset/'\n",
    "BOTH_RST = 'test_both_spk_and_lis/'\n",
    "BOTH_RST_LONG = 'test_both_spk_and_lis_long/'"
   ]
  }
 ],
 "metadata": {
  "kernelspec": {
   "display_name": "Python 3",
   "language": "python",
   "name": "python3"
  },
  "language_info": {
   "codemirror_mode": {
    "name": "ipython",
    "version": 3
   },
   "file_extension": ".py",
   "mimetype": "text/x-python",
   "name": "python",
   "nbconvert_exporter": "python",
   "pygments_lexer": "ipython3",
   "version": "3.5.6"
  }
 },
 "nbformat": 4,
 "nbformat_minor": 2
}
